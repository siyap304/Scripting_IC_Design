{
 "cells": [
  {
   "cell_type": "markdown",
   "id": "7316eb72",
   "metadata": {},
   "source": [
    "Importing Libraries needed to run script"
   ]
  },
  {
   "cell_type": "code",
   "execution_count": 1,
   "id": "fc89e174-4bd3-4334-9423-b2e9011005e5",
   "metadata": {},
   "outputs": [],
   "source": [
    "import os\n",
    "import numpy as np\n",
    "import pandas as pd1\n",
    "import shutil\n",
    "import csv"
   ]
  },
  {
   "cell_type": "code",
   "execution_count": 2,
   "id": "cdcfb600",
   "metadata": {},
   "outputs": [
    {
     "name": "stdout",
     "output_type": "stream",
     "text": [
      "['Convolution.v', 'counter.v', 'Dynamic.v', 'Full_Adder.v', 'LAB1_using_decoder.v', 'Processor.v', 'Moore.v', 'Mealy.v', 'Comparator.v', 'Koggestone.v']\n"
     ]
    }
   ],
   "source": [
    "models = os.listdir(\"Modules\") #modules list as array \n",
    "print(models)"
   ]
  },
  {
   "cell_type": "code",
   "execution_count": 3,
   "id": "fea69130",
   "metadata": {},
   "outputs": [
    {
     "name": "stdout",
     "output_type": "stream",
     "text": [
      "Convolution.v\n",
      "counter.v\n",
      "Dynamic.v\n",
      "Full_Adder.v\n",
      "LAB1_using_decoder.v\n",
      "Processor.v\n",
      "Moore.v\n",
      "Mealy.v\n",
      "Comparator.v\n",
      "Koggestone.v\n",
      "['Convolution', 'counter', 'Dynamic', 'Full_Adder', 'LAB1_using_decoder', 'Processor', 'Moore', 'Mealy', 'Comparator', 'Koggestone']\n"
     ]
    }
   ],
   "source": [
    "top_modules = []\n",
    "for mod in models:\n",
    "        top_modules.append(mod[:-2])\n",
    "        print(mod)\n",
    "print(top_modules)"
   ]
  },
  {
   "cell_type": "code",
   "execution_count": 4,
   "id": "b17337b3",
   "metadata": {},
   "outputs": [
    {
     "data": {
      "text/plain": [
       "0"
      ]
     },
     "execution_count": 4,
     "metadata": {},
     "output_type": "execute_result"
    }
   ],
   "source": [
    "os.system(\"vivado -mode batch -source tcl_create.tcl\")   #creating new project"
   ]
  },
  {
   "cell_type": "code",
   "execution_count": 5,
   "metadata": {},
   "outputs": [],
   "source": [
    "for mod in models:\n",
    "    os.system(\"vivado -mode batch -source  tcl_add.tcl -tclargs {}\".format(mod))"
   ]
  },
  {
   "cell_type": "code",
   "execution_count": 6,
   "id": "f8165181",
   "metadata": {},
   "outputs": [],
   "source": [
    "# os.mkdir(\"results\")"
   ]
  },
  {
   "cell_type": "code",
   "execution_count": 7,
   "id": "c0e95a8e",
   "metadata": {},
   "outputs": [],
   "source": [
    "# for filename in models:for filename in models:\n",
    "#     os.mkdir(\"results/\"+filename[:-2])\n",
    "#     os.system(\"vivado -mode batch -source  tcl_run.tcl -tclargs {}\".format(filename))\n",
    "#     print(\"{} reported\".format(filename)) \n",
    "#     os.mkdir(\"Results/\"+filename[:-2])\n",
    "    \n",
    "#     # Run synthesis and capture the log output\n",
    "#     log_file = f\"Results/{filename[:-2]}/synth.log\"\n",
    "#     command = f\"vivado -mode batch -source tcl_run.tcl -tclargs {filename} > {log_file} 2>&1\"\n",
    "#     os.system(command)\n",
    "\n",
    "#     # Check if synthesis failed\n",
    "#     with open(log_file, 'r') as log:\n",
    "#         log_content = log.read()\n",
    "\n",
    "#     if \"ERROR:\" in log_content or \"failed\" in log_content:\n",
    "#         print(f\"Skipping {filename} due to synthesis errors.\")\n",
    "#         continue  # Skip to the next file\n",
    "\n",
    "#     print(f\"{filename} reported\")"
   ]
  },
  {
   "cell_type": "code",
   "execution_count": 8,
   "id": "eb55704e",
   "metadata": {},
   "outputs": [
    {
     "name": "stdout",
     "output_type": "stream",
     "text": [
      "Convolution.v reported\n",
      "counter.v reported\n",
      "Dynamic.v reported\n",
      "Full_Adder.v reported\n",
      "LAB1_using_decoder.v reported\n",
      "Processor.v reported\n",
      "Moore.v reported\n",
      "Mealy.v reported\n",
      "Comparator.v reported\n",
      "Koggestone.v reported\n"
     ]
    }
   ],
   "source": [
    "for filename in models:\n",
    "    os.mkdir(\"Results/\"+filename[:-2])\n",
    "    os.system(\"vivado -mode batch -source  tcl_run.tcl -tclargs {}\".format(filename))\n",
    "    print(\"{} reported\".format(filename)) "
   ]
  },
  {
   "cell_type": "markdown",
   "id": "0c9fcf5e",
   "metadata": {},
   "source": [
    "Generating Result.csv file \n",
    "The approach is to search for certain text in the generated reports and extract out the numerical values needed."
   ]
  },
  {
   "cell_type": "code",
   "execution_count": 9,
   "id": "2c2af0cf",
   "metadata": {},
   "outputs": [
    {
     "name": "stdout",
     "output_type": "stream",
     "text": [
      "['Convolution', 'counter', 'Dynamic', 'Full_Adder', 'LAB1_using_decoder', 'Processor', 'Moore', 'Mealy', 'Comparator', 'Koggestone']\n"
     ]
    }
   ],
   "source": [
    "data_files = os.listdir(\"Results\")  \n",
    "print(data_files)"
   ]
  },
  {
   "cell_type": "code",
   "execution_count": 10,
   "id": "2c74c6c1",
   "metadata": {},
   "outputs": [],
   "source": [
    "file_types = ['power.txt','timing.txt','utilization.txt']\n",
    "\n",
    "req_data = ['Total On-Chip Power','Data Path Delay','Slice LUTs']\n",
    "\n",
    "Power = []\n",
    "Delay = []\n",
    "LUTs = []"
   ]
  },
  {
   "cell_type": "code",
   "execution_count": null,
   "id": "d9cb54c8",
   "metadata": {},
   "outputs": [],
   "source": [
    "\n",
    "for data in data_files :\n",
    "    for file in file_types:\n",
    "        with open(\"Results/{}/{}\".format(data,file),'r') as File:\n",
    "             content = File.read()\n",
    "\n",
    "        words = content.split('\\n')   \n",
    "\n",
    "        for req_word in words:\n",
    "            if file_types[0] in file:\n",
    "                if req_data[0] in req_word:\n",
    "                    pwr = float(req_word.split()[6])\n",
    "                    print(pwr)\n",
    "                    Power.append(pwr)\n",
    "  \n",
    "\n",
    "        for req_word in words:\n",
    "            if file_types[1] in file:\n",
    "                if req_data[1] in req_word:\n",
    "                    delay = float(req_word.split()[3][:-2])\n",
    "                    print(delay)\n",
    "                    Delay.append(delay)\n",
    "\n",
    "\n",
    "        for req_word in words:\n",
    "            if file_types[2] in file:\n",
    "                if req_data[2] in req_word:\n",
    "                    luts = float(req_word.split()[4])\n",
    "                    print(luts) \n",
    "                    LUTs.append(luts) \n",
    "                    print(\"_____\")          \n",
    "\n",
    "             \n",
    "\n",
    "\n"
   ]
  },
  {
   "cell_type": "code",
   "execution_count": null,
   "id": "980b29cb",
   "metadata": {},
   "outputs": [],
   "source": [
    "Final_results = [Power,Delay,LUTs]\n",
    "row_name = ['Power','Delay','LUTs']\n",
    "\n",
    "df = pd1.DataFrame(Final_results, index = row_name)\n",
    "df.columns = data_files\n",
    "\n",
    "df.to_csv('Final_results.csv', index = row_name)\n",
    "# df.dropna(axis=1, how='all', inplace=True)  # Drop columns with all NaN values (failed synthesis)\n",
    "# df.to_csv('Final_results.csv', index = row_name)\n",
    "\n",
    "print(df)"
   ]
  },
  {
   "cell_type": "code",
   "execution_count": null,
   "id": "e3735249",
   "metadata": {},
   "outputs": [],
   "source": []
  }
 ],
 "metadata": {
  "kernelspec": {
   "display_name": "Python 3",
   "language": "python",
   "name": "python3"
  },
  "language_info": {
   "codemirror_mode": {
    "name": "ipython",
    "version": 3
   },
   "file_extension": ".py",
   "mimetype": "text/x-python",
   "name": "python",
   "nbconvert_exporter": "python",
   "pygments_lexer": "ipython3",
   "version": "3.6.8"
  }
 },
 "nbformat": 4,
 "nbformat_minor": 5
}
